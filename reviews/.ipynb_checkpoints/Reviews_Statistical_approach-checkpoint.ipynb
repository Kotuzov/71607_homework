{
 "cells": [
  {
   "cell_type": "code",
   "execution_count": 77,
   "metadata": {},
   "outputs": [],
   "source": [
    "import sklearn\n",
    "import pandas as pd"
   ]
  },
  {
   "cell_type": "code",
   "execution_count": 78,
   "metadata": {},
   "outputs": [],
   "source": [
    "import nltk\n",
    "import numpy as np"
   ]
  },
  {
   "cell_type": "code",
   "execution_count": 88,
   "metadata": {},
   "outputs": [],
   "source": [
    "data = pd.read_csv('reviews.txt', sep=\"\\t\", header=None)"
   ]
  },
  {
   "cell_type": "code",
   "execution_count": 89,
   "metadata": {},
   "outputs": [],
   "source": [
    "data.columns = ['review', 'degree']\n"
   ]
  },
  {
   "cell_type": "code",
   "execution_count": 90,
   "metadata": {},
   "outputs": [],
   "source": [
    "reviews = data['review'].copy()\n",
    "degree = data.review.apply(lambda s : s[0])"
   ]
  },
  {
   "cell_type": "code",
   "execution_count": 91,
   "metadata": {},
   "outputs": [
    {
     "data": {
      "text/plain": [
       "0       1 A series of escapades demonstrating the adag...\n",
       "1       4 This quiet , introspective and entertaining ...\n",
       "2       1 Even fans of Ismail Merchant 's work , I sus...\n",
       "3       3 A positively thrilling combination of ethnog...\n",
       "4       1 Aggressive self-glorification and a manipula...\n",
       "5       4 A comedy-drama of nearly epic proportions ro...\n",
       "6       1 Narratively , Trouble Every Day is a ploddin...\n",
       "7       3 The Importance of Being Earnest , so thick w...\n",
       "8                 1 But it does n't leave you with much .\n",
       "9               1 You could hate it for the same reason .\n",
       "10      1 There 's little to recommend Snow Dogs , unl...\n",
       "11      1 Kung Pow is Oedekerk 's realization of his c...\n",
       "12               4 The performances are an absolute joy .\n",
       "13      3 Fresnadillo has something serious to say abo...\n",
       "14      3 I still like Moonlight Mile , better judgmen...\n",
       "15      3 A welcome relief from baseball movies that t...\n",
       "16      3 a bilingual charmer , just like the woman wh...\n",
       "17      2 Like a less dizzily gorgeous companion to Mr...\n",
       "18      1 As inept as big-screen remakes of The Avenge...\n",
       "19      2 It 's everything you 'd expect -- but nothin...\n",
       "20                    4 Best indie of the year , so far .\n",
       "21      3 Hatfield and Hicks make the oddest of couple...\n",
       "22      1 It 's like going to a house party and watchi...\n",
       "23      2 That the Chuck Norris `` grenade gag '' occu...\n",
       "24      2 The plot is romantic comedy boilerplate from...\n",
       "25      2 It arrives with an impeccable pedigree , mon...\n",
       "26      2 A film that clearly means to preach exclusiv...\n",
       "27      1 While The Importance of Being Earnest offers...\n",
       "28      1 The latest vapid actor 's exercise to approp...\n",
       "29      2 More vaudeville show than well-constructed n...\n",
       "                              ...                        \n",
       "8499    0 Every conceivable mistake a director could m...\n",
       "8500    4 It 's the kind of movie that , aside from Ro...\n",
       "8501    4 Williams creates a stunning , Taxi Driver-es...\n",
       "8502    3 Campbell Scott finds the ideal outlet for hi...\n",
       "8503    3 Has a certain ghoulish fascination , and gen...\n",
       "8504    1 With its parade of almost perpetually wasted...\n",
       "8505    3 Bolstered by an astonishing voice cast -LRB-...\n",
       "8506                3 A witty , whimsical feature debut .\n",
       "8507                     4 Exhilarating , funny and fun .\n",
       "8508    1 As an entertainment destination for the gene...\n",
       "8509    3 Downbeat , period-perfect biopic hammers hom...\n",
       "8510    1 None of this so-called satire has any sting ...\n",
       "8511    2 The Santa Clause 2 is a barely adequate baby...\n",
       "8512    1 Sometimes there are very , very good reasons...\n",
       "8513    3 It makes you believe the cast and crew thoro...\n",
       "8514    3 The underworld urban angst is derivative of ...\n",
       "8515    2 Even if you have no interest in the gang-inf...\n",
       "8516    1 The film does n't really care about the thou...\n",
       "8517    3 Proves a servicable World War II drama that ...\n",
       "8518    1 This movie ... does n't deserve the energy i...\n",
       "8519                                1 In this case zero .\n",
       "8520    1 Simply put , there should have been a more c...\n",
       "8521    3 Definitely in the guilty pleasure B-movie ca...\n",
       "8522    3 It 's an experience in understanding a uniqu...\n",
       "8523    0 The French director has turned out nearly 21...\n",
       "8524    2 ... either you 're willing to go with this c...\n",
       "8525    2 Despite these annoyances , the capable Clayb...\n",
       "8526    1 -LRB- Tries -RRB- to parody a genre that 's ...\n",
       "8527    1 The movie 's downfall is to substitute plot ...\n",
       "8528    2 The film is darkly atmospheric , with Herrma...\n",
       "Name: review, Length: 8529, dtype: object"
      ]
     },
     "execution_count": 91,
     "metadata": {},
     "output_type": "execute_result"
    }
   ],
   "source": [
    "reviews"
   ]
  },
  {
   "cell_type": "code",
   "execution_count": 92,
   "metadata": {},
   "outputs": [
    {
     "data": {
      "text/plain": [
       "0       1\n",
       "1       4\n",
       "2       1\n",
       "3       3\n",
       "4       1\n",
       "5       4\n",
       "6       1\n",
       "7       3\n",
       "8       1\n",
       "9       1\n",
       "10      1\n",
       "11      1\n",
       "12      4\n",
       "13      3\n",
       "14      3\n",
       "15      3\n",
       "16      3\n",
       "17      2\n",
       "18      1\n",
       "19      2\n",
       "20      4\n",
       "21      3\n",
       "22      1\n",
       "23      2\n",
       "24      2\n",
       "25      2\n",
       "26      2\n",
       "27      1\n",
       "28      1\n",
       "29      2\n",
       "       ..\n",
       "8499    0\n",
       "8500    4\n",
       "8501    4\n",
       "8502    3\n",
       "8503    3\n",
       "8504    1\n",
       "8505    3\n",
       "8506    3\n",
       "8507    4\n",
       "8508    1\n",
       "8509    3\n",
       "8510    1\n",
       "8511    2\n",
       "8512    1\n",
       "8513    3\n",
       "8514    3\n",
       "8515    2\n",
       "8516    1\n",
       "8517    3\n",
       "8518    1\n",
       "8519    1\n",
       "8520    1\n",
       "8521    3\n",
       "8522    3\n",
       "8523    0\n",
       "8524    2\n",
       "8525    2\n",
       "8526    1\n",
       "8527    1\n",
       "8528    2\n",
       "Name: review, Length: 8529, dtype: object"
      ]
     },
     "execution_count": 92,
     "metadata": {},
     "output_type": "execute_result"
    }
   ],
   "source": [
    "degree"
   ]
  },
  {
   "cell_type": "code",
   "execution_count": 93,
   "metadata": {},
   "outputs": [],
   "source": [
    "data['review'] = reviews.copy()\n",
    "data['degree'] = degree.copy()"
   ]
  },
  {
   "cell_type": "code",
   "execution_count": 96,
   "metadata": {},
   "outputs": [],
   "source": [
    "data['review'] = data.review.apply(lambda s: ' '.join(nltk.word_tokenize(s))[1:])"
   ]
  },
  {
   "cell_type": "code",
   "execution_count": 99,
   "metadata": {},
   "outputs": [
    {
     "data": {
      "text/html": [
       "<div>\n",
       "<style>\n",
       "    .dataframe thead tr:only-child th {\n",
       "        text-align: right;\n",
       "    }\n",
       "\n",
       "    .dataframe thead th {\n",
       "        text-align: left;\n",
       "    }\n",
       "\n",
       "    .dataframe tbody tr th {\n",
       "        vertical-align: top;\n",
       "    }\n",
       "</style>\n",
       "<table border=\"1\" class=\"dataframe\">\n",
       "  <thead>\n",
       "    <tr style=\"text-align: right;\">\n",
       "      <th></th>\n",
       "      <th>review</th>\n",
       "      <th>degree</th>\n",
       "    </tr>\n",
       "  </thead>\n",
       "  <tbody>\n",
       "    <tr>\n",
       "      <th>0</th>\n",
       "      <td>A series of escapades demonstrating the adage...</td>\n",
       "      <td>1</td>\n",
       "    </tr>\n",
       "    <tr>\n",
       "      <th>1</th>\n",
       "      <td>This quiet , introspective and entertaining i...</td>\n",
       "      <td>4</td>\n",
       "    </tr>\n",
       "    <tr>\n",
       "      <th>2</th>\n",
       "      <td>Even fans of Ismail Merchant 's work , I susp...</td>\n",
       "      <td>1</td>\n",
       "    </tr>\n",
       "    <tr>\n",
       "      <th>3</th>\n",
       "      <td>A positively thrilling combination of ethnogr...</td>\n",
       "      <td>3</td>\n",
       "    </tr>\n",
       "    <tr>\n",
       "      <th>4</th>\n",
       "      <td>Aggressive self-glorification and a manipulat...</td>\n",
       "      <td>1</td>\n",
       "    </tr>\n",
       "  </tbody>\n",
       "</table>\n",
       "</div>"
      ],
      "text/plain": [
       "                                              review degree\n",
       "0   A series of escapades demonstrating the adage...      1\n",
       "1   This quiet , introspective and entertaining i...      4\n",
       "2   Even fans of Ismail Merchant 's work , I susp...      1\n",
       "3   A positively thrilling combination of ethnogr...      3\n",
       "4   Aggressive self-glorification and a manipulat...      1"
      ]
     },
     "execution_count": 99,
     "metadata": {},
     "output_type": "execute_result"
    }
   ],
   "source": [
    "del reviews\n",
    "del degree\n",
    "data.head(5)\n",
    "#рейтинг\n",
    "#0 \tnegative\n",
    "#1 \tsomewhat negative\n",
    "#2 \tneutral\n",
    "#3 \tsomewhat positive\n",
    "#4 \tpositive"
   ]
  },
  {
   "cell_type": "code",
   "execution_count": 104,
   "metadata": {},
   "outputs": [],
   "source": [
    "from sklearn.feature_extraction.text import CountVectorizer\n",
    "from sklearn.model_selection import cross_val_score\n",
    "from sklearn.metrics import log_loss\n",
    "from sklearn.naive_bayes import MultinomialNB\n",
    "from sklearn.pipeline import Pipeline"
   ]
  },
  {
   "cell_type": "code",
   "execution_count": 119,
   "metadata": {},
   "outputs": [],
   "source": [
    "pipeline = Pipeline([\n",
    "    ('features', CountVectorizer()),\n",
    "    ('clf', MultinomialNB())\n",
    "])"
   ]
  },
  {
   "cell_type": "code",
   "execution_count": 120,
   "metadata": {},
   "outputs": [
    {
     "data": {
      "text/plain": [
       "array([ 0.39261863,  0.38797045,  0.39845125])"
      ]
     },
     "execution_count": 120,
     "metadata": {},
     "output_type": "execute_result"
    }
   ],
   "source": [
    "cross_val_score(pipeline, data.review, data.degree, cv=3, n_jobs=3)"
   ]
  },
  {
   "cell_type": "code",
   "execution_count": 121,
   "metadata": {},
   "outputs": [],
   "source": [
    "pipeline = Pipeline([\n",
    "    ('features', CountVectorizer(analyzer = 'word',                                   \n",
    "                                    ngram_range=(1, 3),\n",
    "                                    lowercase=False)),\n",
    "    ('clf', MultinomialNB())\n",
    "])"
   ]
  },
  {
   "cell_type": "code",
   "execution_count": 122,
   "metadata": {},
   "outputs": [
    {
     "data": {
      "text/plain": [
       "array([ 0.37609842,  0.39043264,  0.39669131])"
      ]
     },
     "execution_count": 122,
     "metadata": {},
     "output_type": "execute_result"
    }
   ],
   "source": [
    "cross_val_score(pipeline, data.review, data.degree, cv=3, n_jobs=3)"
   ]
  },
  {
   "cell_type": "code",
   "execution_count": 139,
   "metadata": {},
   "outputs": [],
   "source": [
    "pipeline = Pipeline([\n",
    "    ('features', CountVectorizer(analyzer = 'word',                                   \n",
    "                                    ngram_range=(1, 2),\n",
    "                                    lowercase=False)),\n",
    "    ('clf', MultinomialNB(alpha = 1))\n",
    "])"
   ]
  },
  {
   "cell_type": "code",
   "execution_count": 140,
   "metadata": {},
   "outputs": [
    {
     "data": {
      "text/plain": [
       "array([ 0.38207381,  0.39289483,  0.3907075 ])"
      ]
     },
     "execution_count": 140,
     "metadata": {},
     "output_type": "execute_result"
    }
   ],
   "source": [
    "cross_val_score(pipeline, data.review, data.degree, cv=3, n_jobs=3)"
   ]
  },
  {
   "cell_type": "code",
   "execution_count": 141,
   "metadata": {},
   "outputs": [
    {
     "data": {
      "text/plain": [
       "array([-3.1479839 , -3.24253191, -3.1854576 ])"
      ]
     },
     "execution_count": 141,
     "metadata": {},
     "output_type": "execute_result"
    }
   ],
   "source": [
    "cross_val_score(pipeline, data.review, data.degree, cv=3, n_jobs=3,  scoring='neg_log_loss')"
   ]
  },
  {
   "cell_type": "code",
   "execution_count": 151,
   "metadata": {},
   "outputs": [],
   "source": [
    "from sklearn.linear_model import LogisticRegression\n",
    "pipeline = Pipeline([\n",
    "    ('features', CountVectorizer()),\n",
    "    ('clf', LogisticRegression())\n",
    "])"
   ]
  },
  {
   "cell_type": "code",
   "execution_count": 152,
   "metadata": {},
   "outputs": [
    {
     "data": {
      "text/plain": [
       "array([ 0.38137083,  0.39113612,  0.38859556])"
      ]
     },
     "execution_count": 152,
     "metadata": {},
     "output_type": "execute_result"
    }
   ],
   "source": [
    "cross_val_score(pipeline, data.review, data.degree, cv=3, n_jobs=3,)"
   ]
  },
  {
   "cell_type": "code",
   "execution_count": 153,
   "metadata": {},
   "outputs": [
    {
     "data": {
      "text/plain": [
       "array([-1.50674208, -1.51726239, -1.52788121])"
      ]
     },
     "execution_count": 153,
     "metadata": {},
     "output_type": "execute_result"
    }
   ],
   "source": [
    "cross_val_score(pipeline, data.review, data.degree, cv=3, n_jobs=3,  scoring='neg_log_loss')"
   ]
  },
  {
   "cell_type": "code",
   "execution_count": null,
   "metadata": {},
   "outputs": [],
   "source": []
  }
 ],
 "metadata": {
  "kernelspec": {
   "display_name": "Python 3",
   "language": "python",
   "name": "python3"
  },
  "language_info": {
   "codemirror_mode": {
    "name": "ipython",
    "version": 3
   },
   "file_extension": ".py",
   "mimetype": "text/x-python",
   "name": "python",
   "nbconvert_exporter": "python",
   "pygments_lexer": "ipython3",
   "version": "3.5.0+"
  }
 },
 "nbformat": 4,
 "nbformat_minor": 2
}
